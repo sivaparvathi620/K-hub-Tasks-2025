{
  "nbformat": 4,
  "nbformat_minor": 0,
  "metadata": {
    "colab": {
      "provenance": [],
      "authorship_tag": "ABX9TyMgjvcrvnMYKfLSu84egenh",
      "include_colab_link": true
    },
    "kernelspec": {
      "name": "python3",
      "display_name": "Python 3"
    },
    "language_info": {
      "name": "python"
    }
  },
  "cells": [
    {
      "cell_type": "markdown",
      "metadata": {
        "id": "view-in-github",
        "colab_type": "text"
      },
      "source": [
        "<a href=\"https://colab.research.google.com/github/sivaparvathi620/K-hub-Tasks-2025/blob/main/Copy_of_Khub_Task(python).ipynb\" target=\"_parent\"><img src=\"https://colab.research.google.com/assets/colab-badge.svg\" alt=\"Open In Colab\"/></a>"
      ]
    },
    {
      "cell_type": "code",
      "source": [
        "#This is a single line comments in python"
      ],
      "metadata": {
        "id": "vt9zo1XT5Y76"
      },
      "execution_count": null,
      "outputs": []
    },
    {
      "cell_type": "code",
      "source": [
        "\"\"\"This is a\n",
        "multi\n",
        "line\n",
        "comment in python\"\"\""
      ],
      "metadata": {
        "colab": {
          "base_uri": "https://localhost:8080/",
          "height": 36
        },
        "id": "cZvuppcI5d3W",
        "outputId": "0c9fc8ce-b76b-4e3b-b793-fa9175ecef63"
      },
      "execution_count": null,
      "outputs": [
        {
          "output_type": "execute_result",
          "data": {
            "text/plain": [
              "'This is a\\nmulti\\nline \\ncomment in python'"
            ],
            "application/vnd.google.colaboratory.intrinsic+json": {
              "type": "string"
            }
          },
          "metadata": {},
          "execution_count": 21
        }
      ]
    },
    {
      "cell_type": "code",
      "source": [
        "'''this\n",
        "is\n",
        " also multi\n",
        " line comment'''"
      ],
      "metadata": {
        "colab": {
          "base_uri": "https://localhost:8080/",
          "height": 36
        },
        "id": "wqeYbnTN5iAt",
        "outputId": "6d20b58a-fc3b-47ab-a1d7-0660dd0335ad"
      },
      "execution_count": null,
      "outputs": [
        {
          "output_type": "execute_result",
          "data": {
            "text/plain": [
              "'this \\nis\\n also multi \\n line comment'"
            ],
            "application/vnd.google.colaboratory.intrinsic+json": {
              "type": "string"
            }
          },
          "metadata": {},
          "execution_count": 22
        }
      ]
    },
    {
      "cell_type": "code",
      "execution_count": null,
      "metadata": {
        "colab": {
          "base_uri": "https://localhost:8080/"
        },
        "id": "SDgT6DGh1uQb",
        "outputId": "4f8e6de5-c7a0-4823-ec61-0f89074824cd"
      },
      "outputs": [
        {
          "output_type": "stream",
          "name": "stdout",
          "text": [
            "3.11.13 (main, Jun  4 2025, 08:57:29) [GCC 11.4.0]\n"
          ]
        }
      ],
      "source": [
        "#Python version\n",
        "import sys\n",
        "print(sys.version)"
      ]
    },
    {
      "cell_type": "code",
      "source": [
        "#Basic python code Syntax\n",
        "print(\"Hello World!\")"
      ],
      "metadata": {
        "colab": {
          "base_uri": "https://localhost:8080/"
        },
        "id": "svI3d80Q1-oM",
        "outputId": "31f0420e-d748-4176-a2b6-50b5d29cabd2"
      },
      "execution_count": null,
      "outputs": [
        {
          "output_type": "stream",
          "name": "stdout",
          "text": [
            "Hello World!\n"
          ]
        }
      ]
    },
    {
      "cell_type": "code",
      "source": [
        "#Python Indentation\n",
        "if 5>3:\n",
        "  print(\"Five is a grater than 3\")\n"
      ],
      "metadata": {
        "colab": {
          "base_uri": "https://localhost:8080/"
        },
        "id": "1I9KKxvH2Mo4",
        "outputId": "bd3de504-dbb1-4bc7-af79-e67f27f0629d"
      },
      "execution_count": null,
      "outputs": [
        {
          "output_type": "stream",
          "name": "stdout",
          "text": [
            "Five is a grater than 3\n"
          ]
        }
      ]
    },
    {
      "cell_type": "code",
      "source": [
        "#Python Indentation\n",
        "if 5>3:\n",
        "  print(\"Three less five\")\n"
      ],
      "metadata": {
        "colab": {
          "base_uri": "https://localhost:8080/"
        },
        "id": "gRU0Ky8Q2mCY",
        "outputId": "d25fc7a2-9592-4d69-a4cd-1cc9a02feac3"
      },
      "execution_count": null,
      "outputs": [
        {
          "output_type": "stream",
          "name": "stdout",
          "text": [
            "Three less five\n"
          ]
        }
      ]
    },
    {
      "cell_type": "code",
      "source": [
        "#Python Variables\n",
        "X=5\n",
        "Y=10\n",
        "print(X,Y)\n",
        "print(X)\n",
        "print(Y)"
      ],
      "metadata": {
        "colab": {
          "base_uri": "https://localhost:8080/"
        },
        "id": "XHv1eEAo226n",
        "outputId": "34eb7782-f6cb-4974-f69c-295fbcd9b036"
      },
      "execution_count": null,
      "outputs": [
        {
          "output_type": "stream",
          "name": "stdout",
          "text": [
            "5 10\n",
            "5\n",
            "10\n"
          ]
        }
      ]
    },
    {
      "cell_type": "code",
      "source": [
        "#get the variable type\n",
        "X=\"Vijju\"\n",
        "Y=10\n",
        "Z=3.5\n",
        "print(type(Z))\n",
        "print(type(X))\n",
        "print(type(Y))"
      ],
      "metadata": {
        "colab": {
          "base_uri": "https://localhost:8080/"
        },
        "id": "wwT_Gy2E4C7O",
        "outputId": "dd12ead2-7dd7-484f-b21c-6c3f3a8687aa"
      },
      "execution_count": null,
      "outputs": [
        {
          "output_type": "stream",
          "name": "stdout",
          "text": [
            "<class 'float'>\n",
            "<class 'str'>\n",
            "<class 'int'>\n"
          ]
        }
      ]
    },
    {
      "cell_type": "code",
      "source": [
        "#creating variables\n",
        "A=str(3)\n",
        "B=float(7)\n",
        "C=int(10)\n",
        "print(A)\n",
        "print(B)\n",
        "print(C)"
      ],
      "metadata": {
        "colab": {
          "base_uri": "https://localhost:8080/"
        },
        "id": "uneHZ51a4zR_",
        "outputId": "478a9027-fdf8-4395-a6fe-cd39e4ef35b4"
      },
      "execution_count": null,
      "outputs": [
        {
          "output_type": "stream",
          "name": "stdout",
          "text": [
            "3\n",
            "7.0\n",
            "10\n"
          ]
        }
      ]
    },
    {
      "cell_type": "code",
      "source": [
        "#Single or Double Quotes\n",
        "A='SHIV'\n",
        "print(A)\n",
        "A=\"shiv\"\n",
        "print(A)"
      ],
      "metadata": {
        "colab": {
          "base_uri": "https://localhost:8080/"
        },
        "id": "AU4lEpph5n0u",
        "outputId": "bdfb57e4-5235-4ac8-8e7a-5851dfb7d724"
      },
      "execution_count": null,
      "outputs": [
        {
          "output_type": "stream",
          "name": "stdout",
          "text": [
            "SHIV\n",
            "shiv\n"
          ]
        }
      ]
    },
    {
      "cell_type": "code",
      "source": [
        "#Case senstive\n",
        "Q=\"paruuu\"\n",
        "q=\"paruuu\"\n",
        "print(Q)\n",
        "print(q)"
      ],
      "metadata": {
        "colab": {
          "base_uri": "https://localhost:8080/"
        },
        "id": "PdNkBb-U6Adl",
        "outputId": "f1b17b20-7855-47fd-8e11-02fa9a1564aa"
      },
      "execution_count": null,
      "outputs": [
        {
          "output_type": "stream",
          "name": "stdout",
          "text": [
            "paruuu\n",
            "paruuu\n"
          ]
        }
      ]
    },
    {
      "cell_type": "code",
      "source": [
        "#variable name rules\n",
        "\n",
        "'''Cannot starts with numbers\n",
        "starts with alpha numeric and underscore'''\n",
        "\n",
        "myvar=\"priyaa\"\n",
        "_myvar=10\n",
        "MYVAR=2.0\n",
        "_my_var=True\n",
        "myvar5=100\n",
        "\n",
        "\n",
        "print(myvar)\n",
        "print(_myvar)\n",
        "print(myvar5)\n",
        "print(MYVAR)\n",
        "print(_my_var)\n"
      ],
      "metadata": {
        "colab": {
          "base_uri": "https://localhost:8080/"
        },
        "id": "ss1J8hbp66rF",
        "outputId": "0bbe442f-6c24-482d-f63c-19dc97e41308"
      },
      "execution_count": null,
      "outputs": [
        {
          "output_type": "stream",
          "name": "stdout",
          "text": [
            "priyaa\n",
            "10\n",
            "100\n",
            "2.0\n",
            "True\n"
          ]
        }
      ]
    },
    {
      "cell_type": "code",
      "source": [
        "#Multi Words Variable Names\n",
        "#camel case\n",
        "myVariableName = \"John\"\n",
        "\n",
        "#Pascal Case\n",
        "MyVariableName = \"John\"\n",
        "\n",
        "#snake case\n",
        "my_variable_name = \"John\""
      ],
      "metadata": {
        "id": "yqUgNw4L8V_x"
      },
      "execution_count": null,
      "outputs": []
    },
    {
      "cell_type": "code",
      "source": [
        "#Assign multiple values\n",
        "x,y,z=10,20,30\n",
        "print(x)\n",
        "print(y)\n",
        "print(z)\n",
        "print(x,y,z)"
      ],
      "metadata": {
        "colab": {
          "base_uri": "https://localhost:8080/"
        },
        "id": "2eVszfGW9I58",
        "outputId": "09630d8d-db3c-44d6-acdb-ec1a853ce9b2"
      },
      "execution_count": null,
      "outputs": [
        {
          "output_type": "stream",
          "name": "stdout",
          "text": [
            "10\n",
            "20\n",
            "30\n",
            "10 20 30\n"
          ]
        }
      ]
    },
    {
      "cell_type": "code",
      "source": [
        "#One Value to Multiple Variables\n",
        "a=b=c=\"sanjuu\"\n",
        "print(a)\n",
        "print(c)"
      ],
      "metadata": {
        "colab": {
          "base_uri": "https://localhost:8080/"
        },
        "id": "maqiZhKG9zrg",
        "outputId": "8982f034-b030-4d90-d825-09783d8276e4"
      },
      "execution_count": null,
      "outputs": [
        {
          "output_type": "stream",
          "name": "stdout",
          "text": [
            "sanjuu\n",
            "sanjuu\n"
          ]
        }
      ]
    },
    {
      "cell_type": "code",
      "source": [
        "#Unpack a Collection\n",
        "fruits = [\"apple\", \"banana\", \"cherry\"]\n",
        "x, y, z = fruits\n",
        "print(x)\n",
        "print(y)\n",
        "print(z)\n"
      ],
      "metadata": {
        "colab": {
          "base_uri": "https://localhost:8080/"
        },
        "id": "PeGblsaL_YGj",
        "outputId": "e1d6188e-d926-4df4-a904-f12214a0aa75"
      },
      "execution_count": null,
      "outputs": [
        {
          "output_type": "stream",
          "name": "stdout",
          "text": [
            "apple\n",
            "banana\n",
            "cherry\n"
          ]
        }
      ]
    },
    {
      "cell_type": "code",
      "source": [
        "#output variables\n",
        "a=\"python\"\n",
        "b=\"is very\"\n",
        "c=\"easy to read\"\n",
        "print(a,b,c)\n",
        "print(a+b+c)"
      ],
      "metadata": {
        "colab": {
          "base_uri": "https://localhost:8080/"
        },
        "id": "LpPS__0jCIvn",
        "outputId": "e14205a3-a77a-4523-d4ac-5e7f39f0a853"
      },
      "execution_count": null,
      "outputs": [
        {
          "output_type": "stream",
          "name": "stdout",
          "text": [
            "python is very easy to read\n",
            "pythonis veryeasy to read\n"
          ]
        }
      ]
    },
    {
      "cell_type": "code",
      "source": [
        "#Mathematical operator variables\n",
        "\n",
        "p=16\n",
        "q=12\n",
        "print(p+q)\n",
        "print(p-q)\n",
        "print(p/q)\n",
        "print(p*q)\n",
        "print(p//q)\n",
        "print(p%q)\n",
        "print(p**q)\n",
        "print(p^q)\n",
        "print(p&q)\n",
        "print(p<<q)\n",
        "print(p>>q)\n"
      ],
      "metadata": {
        "colab": {
          "base_uri": "https://localhost:8080/"
        },
        "id": "gPeo9fLICXv_",
        "outputId": "258ddc2f-5e8e-45d0-9076-0b8b5d773ee3"
      },
      "execution_count": null,
      "outputs": [
        {
          "output_type": "stream",
          "name": "stdout",
          "text": [
            "28\n",
            "4\n",
            "1.3333333333333333\n",
            "192\n",
            "1\n",
            "4\n",
            "281474976710656\n",
            "28\n",
            "0\n",
            "65536\n",
            "0\n"
          ]
        }
      ]
    },
    {
      "cell_type": "code",
      "source": [
        "#global variables\n",
        "\n",
        "x=\"super\"\n",
        "\n",
        "def myfunction():\n",
        "  print(\"python is \" +x)\n",
        "myfunction()\n"
      ],
      "metadata": {
        "id": "P7S6Mr2qEJKJ",
        "colab": {
          "base_uri": "https://localhost:8080/"
        },
        "outputId": "6eec2918-b839-4822-d493-907436b6425e"
      },
      "execution_count": null,
      "outputs": [
        {
          "output_type": "stream",
          "name": "stdout",
          "text": [
            "python is super\n"
          ]
        }
      ]
    },
    {
      "cell_type": "code",
      "source": [
        "x=\"super\"\n",
        "def myfunc():\n",
        "  x=\"fantastic\"\n",
        "  print(\"python is \" +x)\n",
        "myfunc()\n",
        "print(\"python is \" +x)"
      ],
      "metadata": {
        "colab": {
          "base_uri": "https://localhost:8080/"
        },
        "id": "85jWiWdyFRyT",
        "outputId": "26ea0e6c-6c96-4902-d114-c621bb156714"
      },
      "execution_count": null,
      "outputs": [
        {
          "output_type": "stream",
          "name": "stdout",
          "text": [
            "python is fantastic\n",
            "python is super\n"
          ]
        }
      ]
    },
    {
      "cell_type": "code",
      "source": [
        "#The Global Keyword\n",
        "\n",
        "def func():\n",
        "  global x\n",
        "  x=\"super\"\n",
        "func()\n",
        "print(\"python is \"+x)"
      ],
      "metadata": {
        "colab": {
          "base_uri": "https://localhost:8080/"
        },
        "id": "zDaBCkE9Fyzz",
        "outputId": "ad9ed06a-535e-4405-89f5-baadcccebba1"
      },
      "execution_count": null,
      "outputs": [
        {
          "output_type": "stream",
          "name": "stdout",
          "text": [
            "python is super\n"
          ]
        }
      ]
    },
    {
      "cell_type": "code",
      "source": [
        "#DATA TYPES"
      ],
      "metadata": {
        "id": "TJChr5TI8QYy"
      },
      "execution_count": null,
      "outputs": []
    },
    {
      "cell_type": "code",
      "source": [
        "#data types\n",
        "\n",
        "a = \"Hello World\"\n",
        "b = 20\n",
        "c = 20.5\n",
        "d=1j\n",
        "e=[\"apple\", \"banana\", \"cherry\"]\n",
        "f=(\"apple\", \"banana\", \"cherry\")\n",
        "g=range(6)\n",
        "h={\"name\" : \"John\", \"age\" : 36}\n",
        "i={\"apple\", \"banana\", \"cherry\"}\n",
        "j=frozenset({\"apple\", \"banana\", \"cherry\"})\n",
        "k=True\n",
        "l=b\"hello\"\n",
        "m=bytearray(5)\n",
        "n=memoryview(bytes(5))\n",
        "o=None\n",
        "\n",
        "\n",
        "print(type(a))\n",
        "print(type(b))\n",
        "print(type(c))\n",
        "print(type(d))\n",
        "print(type(e))\n",
        "print(type(f))\n",
        "print(type(g))\n",
        "print(type(h))\n",
        "print(type(i))\n",
        "print(type(j))\n",
        "print(type(k))\n",
        "print(type(l))\n",
        "print(type(m))\n",
        "print(type(n))\n",
        "print(type(o))"
      ],
      "metadata": {
        "id": "XLvTguWe8eMp",
        "colab": {
          "base_uri": "https://localhost:8080/"
        },
        "outputId": "0d7209f8-8dd1-4675-85b3-d90688da216e"
      },
      "execution_count": null,
      "outputs": [
        {
          "output_type": "stream",
          "name": "stdout",
          "text": [
            "<class 'str'>\n",
            "<class 'int'>\n",
            "<class 'float'>\n",
            "<class 'complex'>\n",
            "<class 'list'>\n",
            "<class 'tuple'>\n",
            "<class 'range'>\n",
            "<class 'dict'>\n",
            "<class 'set'>\n",
            "<class 'frozenset'>\n",
            "<class 'bool'>\n",
            "<class 'bytes'>\n",
            "<class 'bytearray'>\n",
            "<class 'memoryview'>\n",
            "<class 'NoneType'>\n"
          ]
        }
      ]
    },
    {
      "cell_type": "code",
      "source": [
        "#Python numbers\n",
        "\n",
        "x=1\n",
        "y=2.5\n",
        "z=1j\n",
        "\n",
        "#converts from int to float\n",
        "a=float(x)\n",
        "\n",
        "#converts from float to int\n",
        "b=int(y)\n",
        "\n",
        "#converts from int to complex\n",
        "c=complex(x)\n",
        "\n",
        "print(a)\n",
        "print(b)\n",
        "print(c)"
      ],
      "metadata": {
        "id": "Pd08N2erC9Mj",
        "outputId": "ac3e2b2a-fb0c-4c66-e33f-c46eb728da51",
        "colab": {
          "base_uri": "https://localhost:8080/"
        }
      },
      "execution_count": null,
      "outputs": [
        {
          "output_type": "stream",
          "name": "stdout",
          "text": [
            "1.0\n",
            "2\n",
            "(1+0j)\n"
          ]
        }
      ]
    },
    {
      "cell_type": "code",
      "source": [
        "#Random Numbers\n",
        "\n",
        "import random\n",
        "print(random.randrange(1,11))"
      ],
      "metadata": {
        "id": "Sv4oQfE9FlNe",
        "outputId": "0c94792e-cf77-401b-d245-6e01378666c3",
        "colab": {
          "base_uri": "https://localhost:8080/"
        }
      },
      "execution_count": null,
      "outputs": [
        {
          "output_type": "stream",
          "name": "stdout",
          "text": [
            "9\n"
          ]
        }
      ]
    },
    {
      "cell_type": "code",
      "source": [
        "#python casting(integers)\n",
        "x = int(1)\n",
        "y = int(4.2)\n",
        "z = int(\"3\")\n",
        "print(x)\n",
        "print(y)\n",
        "print(z)"
      ],
      "metadata": {
        "id": "muYJwFUVGTON",
        "outputId": "3a267dc0-b2e7-44bf-d17f-cbe55d63e555",
        "colab": {
          "base_uri": "https://localhost:8080/"
        }
      },
      "execution_count": null,
      "outputs": [
        {
          "output_type": "stream",
          "name": "stdout",
          "text": [
            "1\n",
            "4\n",
            "3\n"
          ]
        }
      ]
    },
    {
      "cell_type": "code",
      "source": [
        "#floats\n",
        "x = float(1)\n",
        "y = float(2.8)\n",
        "z = float(\"3\")\n",
        "w = float(\"4.2\")\n",
        "print(x)\n",
        "print(y)\n",
        "print(z)\n",
        "print(w)\n"
      ],
      "metadata": {
        "id": "Vy1x3AxmHBKd",
        "outputId": "146e3a57-58ea-48ed-8333-5264bb540d1a",
        "colab": {
          "base_uri": "https://localhost:8080/"
        }
      },
      "execution_count": null,
      "outputs": [
        {
          "output_type": "stream",
          "name": "stdout",
          "text": [
            "1.0\n",
            "2.8\n",
            "3.0\n",
            "4.2\n"
          ]
        }
      ]
    },
    {
      "cell_type": "code",
      "source": [
        "#string\n",
        "x = str(\"s1\")\n",
        "y = str(2)\n",
        "z = str(3.0)\n",
        "print(x)\n",
        "print(y)\n",
        "print(z)\n"
      ],
      "metadata": {
        "id": "Vxs-6ANBHX-n",
        "outputId": "a2c24d80-c245-4336-efb0-1ecc37293d37",
        "colab": {
          "base_uri": "https://localhost:8080/"
        }
      },
      "execution_count": null,
      "outputs": [
        {
          "output_type": "stream",
          "name": "stdout",
          "text": [
            "s1\n",
            "2\n",
            "3.0\n"
          ]
        }
      ]
    },
    {
      "cell_type": "code",
      "source": [
        "#PYTHON STRINGS"
      ],
      "metadata": {
        "id": "zBC9BEE9Hr4q"
      },
      "execution_count": null,
      "outputs": []
    },
    {
      "cell_type": "code",
      "source": [
        "#string are arrays\n",
        "\n",
        "a=\"hello world\"\n",
        "print(a[6])"
      ],
      "metadata": {
        "id": "CZTPFmlaHxg0",
        "outputId": "838535ad-eb98-4eb5-bf36-e40e2bad486e",
        "colab": {
          "base_uri": "https://localhost:8080/"
        }
      },
      "execution_count": null,
      "outputs": [
        {
          "output_type": "stream",
          "name": "stdout",
          "text": [
            "w\n"
          ]
        }
      ]
    },
    {
      "cell_type": "code",
      "source": [
        "#looping through a string\n",
        "\n",
        "for x in \"123456789\": #only use in \"x\"\n",
        "  print(x)"
      ],
      "metadata": {
        "id": "_OrhYaH-InC7",
        "outputId": "72d16d42-2586-430b-dd37-e19056ab7ca9",
        "colab": {
          "base_uri": "https://localhost:8080/"
        }
      },
      "execution_count": null,
      "outputs": [
        {
          "output_type": "stream",
          "name": "stdout",
          "text": [
            "1\n",
            "2\n",
            "3\n",
            "4\n",
            "5\n",
            "6\n",
            "7\n",
            "8\n",
            "9\n"
          ]
        }
      ]
    },
    {
      "cell_type": "code",
      "source": [
        "#string length\n",
        "\n",
        "s=\"prabhavathi\"\n",
        "\n",
        "print(len(s))"
      ],
      "metadata": {
        "id": "v9FLHRoJJDLu",
        "outputId": "d7954aab-e1d5-4f7a-c571-3afc47bbb436",
        "colab": {
          "base_uri": "https://localhost:8080/"
        }
      },
      "execution_count": null,
      "outputs": [
        {
          "output_type": "stream",
          "name": "stdout",
          "text": [
            "11\n"
          ]
        }
      ]
    },
    {
      "cell_type": "code",
      "source": [
        "#check string\n",
        "Txt=\"The best things in life are free!\"\n",
        "txt=\"Hey shiv how are you!\"\n",
        "print(\"free\" in txt)\n",
        "print(\"free\"  in Txt)"
      ],
      "metadata": {
        "id": "0GSxzQyWJejx",
        "outputId": "8b4d0459-92b6-401d-a48c-b03eb4a7d7a8",
        "colab": {
          "base_uri": "https://localhost:8080/"
        }
      },
      "execution_count": null,
      "outputs": [
        {
          "output_type": "stream",
          "name": "stdout",
          "text": [
            "False\n",
            "True\n"
          ]
        }
      ]
    },
    {
      "cell_type": "code",
      "source": [
        "#slicing string\n",
        "Name=\"Heyyy Chottuuuu\"\n",
        "print(Name[1:7]) #starting numbers indicates to start with that no\n",
        "#ending number indicates before the give number"
      ],
      "metadata": {
        "id": "eOcUiGg7LhuR",
        "outputId": "610c88b1-a618-4da6-ab16-98a7da49286c",
        "colab": {
          "base_uri": "https://localhost:8080/"
        }
      },
      "execution_count": null,
      "outputs": [
        {
          "output_type": "stream",
          "name": "stdout",
          "text": [
            "eyyy C\n"
          ]
        }
      ]
    },
    {
      "cell_type": "code",
      "source": [
        "#slice from the start\n",
        "\n",
        "a=\"amma\"\n",
        "b=\"nanna\"\n",
        "print(a[:5])\n",
        "\n",
        "#slice to the end\n",
        "\n",
        "\n",
        "print(b[4:])"
      ],
      "metadata": {
        "id": "yBg6nHJZMX8-",
        "outputId": "f967e45d-ea58-482a-9a3a-1e79a0bc43e2",
        "colab": {
          "base_uri": "https://localhost:8080/"
        }
      },
      "execution_count": null,
      "outputs": [
        {
          "output_type": "stream",
          "name": "stdout",
          "text": [
            "amma\n",
            "a\n"
          ]
        }
      ]
    },
    {
      "cell_type": "code",
      "source": [
        "#Negative Indexing\n",
        "x=\"Hello, World!\"\n",
        "\n",
        "print(x[-4:-3])#negative indexing starts from last to first in string"
      ],
      "metadata": {
        "id": "pLmkyZOyNFkN",
        "outputId": "30028c34-b74e-43e5-d5c0-adb897658f30",
        "colab": {
          "base_uri": "https://localhost:8080/"
        }
      },
      "execution_count": null,
      "outputs": [
        {
          "output_type": "stream",
          "name": "stdout",
          "text": [
            "r\n"
          ]
        }
      ]
    },
    {
      "cell_type": "code",
      "source": [
        "#Modify String"
      ],
      "metadata": {
        "id": "ueCUjoBSMoKy"
      },
      "execution_count": null,
      "outputs": []
    },
    {
      "cell_type": "code",
      "source": [
        "#Upper case letters\n",
        "\n",
        "a=\"Siva Parvathi\"\n",
        "print(a.upper())\n",
        "\n",
        "#Lower Case Letters\n",
        "\n",
        "b=\"Sandhya Devi\"\n",
        "print(b.lower())"
      ],
      "metadata": {
        "id": "FgaeFfE2Qcdv",
        "outputId": "f52847e7-d05a-4556-ffce-bf830f6ec1fe",
        "colab": {
          "base_uri": "https://localhost:8080/"
        }
      },
      "execution_count": null,
      "outputs": [
        {
          "output_type": "stream",
          "name": "stdout",
          "text": [
            "SIVA PARVATHI\n",
            "sandhya devi\n"
          ]
        }
      ]
    },
    {
      "cell_type": "code",
      "source": [
        "#Remove White space(STRIP)\n",
        "\n",
        "y=\"Anyanaaa Priyaa \"\n",
        "print(y.strip())"
      ],
      "metadata": {
        "id": "8AegVakjQtPK",
        "outputId": "82c5a9af-b19a-46b1-8b4f-e727792df5e8",
        "colab": {
          "base_uri": "https://localhost:8080/"
        }
      },
      "execution_count": null,
      "outputs": [
        {
          "output_type": "stream",
          "name": "stdout",
          "text": [
            "Anyanaaa Priyaa\n"
          ]
        }
      ]
    },
    {
      "cell_type": "code",
      "source": [
        "#Replace the string\n",
        "\n",
        "S=\"sri Pravalliiiikk\"\n",
        "print(S.replace(\"k\",\"i\"))"
      ],
      "metadata": {
        "id": "6e-Y3BxdRr9r",
        "outputId": "7bbef066-191f-42d2-ac52-bf0b85424927",
        "colab": {
          "base_uri": "https://localhost:8080/"
        }
      },
      "execution_count": null,
      "outputs": [
        {
          "output_type": "stream",
          "name": "stdout",
          "text": [
            "sri Pravalliiiiii\n"
          ]
        }
      ]
    },
    {
      "cell_type": "code",
      "source": [
        "#split string\n",
        "\n",
        "z=\"anitha hema latha\"\n",
        "y=z.split(\",\")\n",
        "print(y)"
      ],
      "metadata": {
        "id": "T0ZN9TwRSZ_n",
        "outputId": "ae016fdb-aa32-4b0a-cc7e-2044b2bcd4d3",
        "colab": {
          "base_uri": "https://localhost:8080/"
        }
      },
      "execution_count": null,
      "outputs": [
        {
          "output_type": "stream",
          "name": "stdout",
          "text": [
            "['anitha hema latha']\n"
          ]
        }
      ]
    },
    {
      "cell_type": "code",
      "source": [
        "#python string concantation"
      ],
      "metadata": {
        "id": "spxfkJ-kTLKl"
      },
      "execution_count": null,
      "outputs": []
    },
    {
      "cell_type": "code",
      "source": [
        "#string concantation\n",
        "#To concatenate, or combine, two strings you can use the + operator\n",
        "\n",
        "p=\"siva\"\n",
        "q=\"parvathi\"\n",
        "r=p+q\n",
        "s=p+\" \"+q\n",
        "print(r)\n",
        "print(s)"
      ],
      "metadata": {
        "id": "KyTIrlYFTaDu",
        "outputId": "6d8be776-8588-4e1b-d0b0-2825256a9b31",
        "colab": {
          "base_uri": "https://localhost:8080/"
        }
      },
      "execution_count": null,
      "outputs": [
        {
          "output_type": "stream",
          "name": "stdout",
          "text": [
            "sivaparvathi\n",
            "siva parvathi\n"
          ]
        }
      ]
    },
    {
      "cell_type": "code",
      "source": [
        "#Formate strings"
      ],
      "metadata": {
        "id": "AIfGQpVZUE_n"
      },
      "execution_count": null,
      "outputs": []
    },
    {
      "cell_type": "code",
      "source": [
        "#F-Strings Formate\n",
        "\n",
        "age=19\n",
        "txt=f\"I'm parvathi,i am {age} old\"\n",
        "print(txt)"
      ],
      "metadata": {
        "id": "THbu-vWKUa42",
        "colab": {
          "base_uri": "https://localhost:8080/"
        },
        "outputId": "4663206b-e865-424d-9b7b-61e3131c493f"
      },
      "execution_count": null,
      "outputs": [
        {
          "output_type": "stream",
          "name": "stdout",
          "text": [
            "I'm parvathi,i am 19 old\n"
          ]
        }
      ]
    },
    {
      "cell_type": "code",
      "source": [
        "name=\"priya\"\n",
        "txt=f\"my name is {name}\"\n",
        "print(txt)"
      ],
      "metadata": {
        "colab": {
          "base_uri": "https://localhost:8080/"
        },
        "id": "kiluCMMHWAAF",
        "outputId": "54d3ec98-7acd-428c-e3b4-958e808c32a2"
      },
      "execution_count": null,
      "outputs": [
        {
          "output_type": "stream",
          "name": "stdout",
          "text": [
            "my name is priya\n"
          ]
        }
      ]
    },
    {
      "cell_type": "code",
      "source": [
        "price = 60\n",
        "txt = f\"The price is {price:.2f} dollars\"\n",
        "print(txt) #the output prints the two decimal values\n"
      ],
      "metadata": {
        "colab": {
          "base_uri": "https://localhost:8080/"
        },
        "id": "l6cis-1nWr45",
        "outputId": "9d95ae13-591e-4b05-b24c-a3f9f6e20e59"
      },
      "execution_count": null,
      "outputs": [
        {
          "output_type": "stream",
          "name": "stdout",
          "text": [
            "The price is 60.00 dollars\n"
          ]
        }
      ]
    },
    {
      "cell_type": "code",
      "source": [
        "#it solves math operations\n",
        "\n",
        "txt = f\"The price is {55*8} dollars\"\n",
        "print(txt)\n"
      ],
      "metadata": {
        "colab": {
          "base_uri": "https://localhost:8080/"
        },
        "id": "DuojcZ3pYPH1",
        "outputId": "4b7345da-fa36-4db3-d2ac-591ec8a8ab70"
      },
      "execution_count": null,
      "outputs": [
        {
          "output_type": "stream",
          "name": "stdout",
          "text": [
            "The price is 440 dollars\n"
          ]
        }
      ]
    },
    {
      "cell_type": "code",
      "source": [
        "#Python - Escape Characters\n",
        "\n",
        "#\\'Single Quote\n",
        "#\\\\\tBackslash\n",
        "#\\n\tNew Line\n",
        "#\\r\tCarriage Return\n",
        "#\\t\tTab\n",
        "#\\b\tBackspace\n",
        "#\\f\tForm feed\n",
        "#\\ooo\tOctal value\n",
        "#\\xhh\tHex value\n",
        "\n"
      ],
      "metadata": {
        "id": "jS4KNqOCYvZ1"
      },
      "execution_count": null,
      "outputs": []
    },
    {
      "cell_type": "code",
      "source": [
        "#python boolean values\n",
        "\n",
        "print(10==10)\n",
        "print(10>9)\n",
        "print(10<9)\n",
        "print(10>=9)\n",
        "print(10<=9)"
      ],
      "metadata": {
        "colab": {
          "base_uri": "https://localhost:8080/"
        },
        "id": "emI91WerhLml",
        "outputId": "a836670c-5250-4f7f-8f7f-6d7c8954f2ed"
      },
      "execution_count": null,
      "outputs": [
        {
          "output_type": "stream",
          "name": "stdout",
          "text": [
            "True\n",
            "True\n",
            "False\n",
            "True\n",
            "False\n"
          ]
        }
      ]
    },
    {
      "cell_type": "code",
      "source": [
        "x=200\n",
        "y=55\n",
        "\n",
        "if y>x:\n",
        "  print(\"y is grater than x\")\n",
        "else:\n",
        "    print(\"y is less than x\")"
      ],
      "metadata": {
        "colab": {
          "base_uri": "https://localhost:8080/"
        },
        "id": "n8cxC_Weh8bm",
        "outputId": "cf2c7dc0-998a-450d-ee6c-17f300522081"
      },
      "execution_count": null,
      "outputs": [
        {
          "output_type": "stream",
          "name": "stdout",
          "text": [
            "y is less than x\n"
          ]
        }
      ]
    },
    {
      "cell_type": "code",
      "source": [
        "#Evaluate Values and Variables\n",
        "\n",
        "print(bool(\"Hello\"))\n",
        "print(bool(15))"
      ],
      "metadata": {
        "colab": {
          "base_uri": "https://localhost:8080/"
        },
        "id": "thD2LhC8iiJ3",
        "outputId": "fa843c68-ea5c-46cf-b6b5-c98094b0e203"
      },
      "execution_count": null,
      "outputs": [
        {
          "output_type": "stream",
          "name": "stdout",
          "text": [
            "True\n",
            "True\n"
          ]
        }
      ]
    },
    {
      "cell_type": "code",
      "source": [
        "#the boolean values in empty string the output is \"false\"\n",
        "\n",
        "\n",
        "print(bool(False))\n",
        "print(bool(None))\n",
        "print(bool(0))\n",
        "print(bool(\"\"))\n",
        "print(bool(()))\n",
        "print(bool([]))\n",
        "print(bool({}))"
      ],
      "metadata": {
        "colab": {
          "base_uri": "https://localhost:8080/"
        },
        "id": "lh_CZgewjHf_",
        "outputId": "d3ba6388-5163-41dd-fdd6-9505b4642712"
      },
      "execution_count": null,
      "outputs": [
        {
          "output_type": "stream",
          "name": "stdout",
          "text": [
            "False\n",
            "False\n",
            "False\n",
            "False\n",
            "False\n",
            "False\n",
            "False\n"
          ]
        }
      ]
    },
    {
      "cell_type": "code",
      "source": [
        "class myclass():\n",
        "  def __len__(self):\n",
        "    return 0\n",
        "\n",
        "myobj = myclass()\n",
        "print(bool(myobj))\n"
      ],
      "metadata": {
        "colab": {
          "base_uri": "https://localhost:8080/"
        },
        "id": "dCCkJBX7kAk3",
        "outputId": "e610e029-a944-41a5-b38d-864083e07581"
      },
      "execution_count": null,
      "outputs": [
        {
          "output_type": "stream",
          "name": "stdout",
          "text": [
            "False\n"
          ]
        }
      ]
    },
    {
      "cell_type": "code",
      "source": [
        "def myFunction():   #Function can return a boolean\n",
        "  return True\n",
        "print(myFunction())"
      ],
      "metadata": {
        "colab": {
          "base_uri": "https://localhost:8080/"
        },
        "id": "tV_GzF3YtQnt",
        "outputId": "6edabee1-3799-4480-e507-b58d89268d35"
      },
      "execution_count": null,
      "outputs": [
        {
          "output_type": "stream",
          "name": "stdout",
          "text": [
            "True\n"
          ]
        }
      ]
    },
    {
      "cell_type": "code",
      "source": [
        "#Print \"YES!\" if the function returns True, otherwise print \"NO!\":\n",
        "\n",
        "def myFunction():\n",
        "  return True\n",
        "\n",
        "if myFunction():\n",
        "  print(\"Yes\")\n",
        "else:\n",
        "  print(\"No\")"
      ],
      "metadata": {
        "colab": {
          "base_uri": "https://localhost:8080/"
        },
        "id": "ja1LBVqft73V",
        "outputId": "acb241aa-2e99-4a6f-8eee-425fae0bf5b0"
      },
      "execution_count": null,
      "outputs": [
        {
          "output_type": "stream",
          "name": "stdout",
          "text": [
            "Yes\n"
          ]
        }
      ]
    },
    {
      "cell_type": "code",
      "source": [
        "#the \"isinstance()\" function, which can be used to determine if an object is of a certain data type:\n",
        "\n",
        "x=200\n",
        "print(isinstance(x,int))"
      ],
      "metadata": {
        "colab": {
          "base_uri": "https://localhost:8080/"
        },
        "id": "P1lPYAVxucS9",
        "outputId": "058d321f-7c25-42a7-b351-5db81a2e3478"
      },
      "execution_count": null,
      "outputs": [
        {
          "output_type": "stream",
          "name": "stdout",
          "text": [
            "True\n"
          ]
        }
      ]
    },
    {
      "cell_type": "code",
      "source": [
        "#python operators\n",
        "\n",
        "#Arithmetic operators\n",
        "#Assignment operators\n",
        "#Comparison operators\n",
        "#Logical operators\n",
        "#Identity operators\n",
        "#Membership operators\n",
        "#Bitwise operators\n"
      ],
      "metadata": {
        "id": "5NNPs0KTvina"
      },
      "execution_count": null,
      "outputs": []
    },
    {
      "cell_type": "code",
      "source": [
        "#Arithmetic operator\n",
        "\n",
        "a=10\n",
        "b=20\n",
        "\n",
        "print(a+b)\n",
        "print(a-b)\n",
        "print(a*b)\n",
        "print(a/b)\n",
        "print(a%b)\n",
        "print(a**b)\n",
        "print(a//b)"
      ],
      "metadata": {
        "colab": {
          "base_uri": "https://localhost:8080/"
        },
        "id": "OEpz5EwVwARF",
        "outputId": "c42d5797-aa1f-4c60-d84c-9d661a1dd3e3"
      },
      "execution_count": null,
      "outputs": [
        {
          "output_type": "stream",
          "name": "stdout",
          "text": [
            "30\n",
            "-10\n",
            "200\n",
            "0.5\n",
            "10\n",
            "100000000000000000000\n",
            "0\n"
          ]
        }
      ]
    },
    {
      "cell_type": "code",
      "source": [
        "#python lists"
      ],
      "metadata": {
        "id": "td-YJDq-wkHz"
      },
      "execution_count": null,
      "outputs": []
    },
    {
      "cell_type": "code",
      "source": [
        "mylist=['apple','banana','orange']\n",
        "print(mylist)"
      ],
      "metadata": {
        "colab": {
          "base_uri": "https://localhost:8080/"
        },
        "id": "uqWMbhqiy-J9",
        "outputId": "ea9acaef-e1bb-4ebb-d6d3-f2f381420de6"
      },
      "execution_count": null,
      "outputs": [
        {
          "output_type": "stream",
          "name": "stdout",
          "text": [
            "['apple', 'banana', 'orange']\n"
          ]
        }
      ]
    },
    {
      "cell_type": "code",
      "source": [
        "#list length\n",
        "mylist=['apple','banana','orange','grapes','pineapple']\n",
        "print(len(mylist))\n"
      ],
      "metadata": {
        "colab": {
          "base_uri": "https://localhost:8080/"
        },
        "id": "Q5lQX_fNzfGr",
        "outputId": "7d7da63c-e6cb-43a8-bc48-4ad04872d40d"
      },
      "execution_count": null,
      "outputs": [
        {
          "output_type": "stream",
          "name": "stdout",
          "text": [
            "5\n"
          ]
        }
      ]
    },
    {
      "cell_type": "code",
      "source": [
        "list1=['apple','banana','orange']\n",
        "list2=[1,2,3,4]\n",
        "list3=[True,False]\n",
        "list4=['apple',1,True]\n",
        "\n",
        "print(list1)\n",
        "print(list2)\n",
        "print(list3)\n",
        "print(list4)"
      ],
      "metadata": {
        "colab": {
          "base_uri": "https://localhost:8080/"
        },
        "id": "rCKz4IuN0B3k",
        "outputId": "38a25cc6-d6ff-4bc0-8863-c8d10e098d7b"
      },
      "execution_count": null,
      "outputs": [
        {
          "output_type": "stream",
          "name": "stdout",
          "text": [
            "['apple', 'banana', 'orange']\n",
            "[1, 2, 3, 4]\n",
            "[True, False]\n",
            "['apple', 1, True]\n"
          ]
        }
      ]
    },
    {
      "cell_type": "code",
      "source": [
        "#A List Can contain different data types\n",
        "\n",
        "list1=[\"abc\",True,23,\"female\"]\n",
        "\n",
        "print(list1)"
      ],
      "metadata": {
        "colab": {
          "base_uri": "https://localhost:8080/"
        },
        "id": "QN8UeF0PMbsi",
        "outputId": "c643cb93-3bdb-4168-e7f5-a2db3fa568ed"
      },
      "execution_count": null,
      "outputs": [
        {
          "output_type": "stream",
          "name": "stdout",
          "text": [
            "['abc', True, 23, 'female']\n"
          ]
        }
      ]
    },
    {
      "cell_type": "code",
      "source": [
        "#Type of list\n",
        "\n",
        "list1=[\"abc\",True,23,\"female\"]\n",
        "\n",
        "print(type(list1))"
      ],
      "metadata": {
        "colab": {
          "base_uri": "https://localhost:8080/"
        },
        "id": "DcNJQ-PeM6wr",
        "outputId": "f6829fe3-bb8a-4b80-d0bb-6c269dc86556"
      },
      "execution_count": null,
      "outputs": [
        {
          "output_type": "stream",
          "name": "stdout",
          "text": [
            "<class 'list'>\n"
          ]
        }
      ]
    },
    {
      "cell_type": "code",
      "source": [
        "#The list() Constructor\n",
        "\n",
        "thislist = list((\"apple\", \"banana\", \"cherry\"))\n",
        "print(thislist)\n"
      ],
      "metadata": {
        "colab": {
          "base_uri": "https://localhost:8080/"
        },
        "id": "hGhIVfMuNfBM",
        "outputId": "650704fe-6eb1-47c4-852d-2e3b770328c3"
      },
      "execution_count": null,
      "outputs": [
        {
          "output_type": "stream",
          "name": "stdout",
          "text": [
            "['apple', 'banana', 'cherry']\n"
          ]
        }
      ]
    },
    {
      "cell_type": "code",
      "source": [
        "#python collection arrays there are 4 types\n",
        "#1.list(ordered,changeable,allow duplicate values)\n",
        "#2.tuple(ordered,unchangeable,allow duplicate values)\n",
        "#3.set(unordered,unchangeable,and unindexed no duplicate values)\n",
        "#4.dictionary(ordered and changeable no duplicate values)"
      ],
      "metadata": {
        "id": "9hCwNj8yOATd"
      },
      "execution_count": null,
      "outputs": []
    },
    {
      "cell_type": "code",
      "source": [
        "#Python - Access List Items"
      ],
      "metadata": {
        "id": "JSjkT5z3P8_n"
      },
      "execution_count": null,
      "outputs": []
    },
    {
      "cell_type": "code",
      "source": [
        "list=['apple','banana','orange','pineapple'] #access iteam\n",
        "print(list[3])"
      ],
      "metadata": {
        "id": "1ftNxAvIQT2H",
        "outputId": "bb476a5f-d7d2-4b87-84b9-1d823f3c24b6",
        "colab": {
          "base_uri": "https://localhost:8080/"
        }
      },
      "execution_count": null,
      "outputs": [
        {
          "output_type": "stream",
          "name": "stdout",
          "text": [
            "pineapple\n"
          ]
        }
      ]
    },
    {
      "cell_type": "code",
      "source": [
        "#negative index\n",
        "\n",
        "list=['apple','banana','orange','pineapple'] #access iteam\n",
        "print(list[-3])"
      ],
      "metadata": {
        "id": "RDdOpb7ZVCjv",
        "outputId": "ad6b2b72-2abf-45d3-937d-4a023f52fa43",
        "colab": {
          "base_uri": "https://localhost:8080/"
        }
      },
      "execution_count": null,
      "outputs": [
        {
          "output_type": "stream",
          "name": "stdout",
          "text": [
            "banana\n"
          ]
        }
      ]
    },
    {
      "cell_type": "code",
      "source": [
        "#Range of Indexes\n",
        "\n",
        "thislist = [\"apple\", \"banana\", \"cherry\", \"orange\", \"kiwi\", \"melon\", \"mango\"]\n",
        "print(thislist[2:5])"
      ],
      "metadata": {
        "id": "z2XI_GgrVVQb",
        "outputId": "afcd1ca0-7c23-4717-8dbd-f742d8ec6b00",
        "colab": {
          "base_uri": "https://localhost:8080/"
        }
      },
      "execution_count": null,
      "outputs": [
        {
          "output_type": "stream",
          "name": "stdout",
          "text": [
            "['cherry', 'orange', 'kiwi']\n"
          ]
        }
      ]
    },
    {
      "cell_type": "code",
      "source": [
        "#This example returns the items from the beginning to, but NOT including, \"kiwi\"\n",
        "\n",
        "\n",
        "thislist = [\"apple\", \"banana\", \"cherry\", \"orange\", \"kiwi\", \"melon\", \"mango\"]\n",
        "print(thislist[:4])\n"
      ],
      "metadata": {
        "id": "VVCJ_24PWAjQ",
        "outputId": "00eee89a-c8ef-4d78-e580-b8e1fbffbb1c",
        "colab": {
          "base_uri": "https://localhost:8080/"
        }
      },
      "execution_count": null,
      "outputs": [
        {
          "output_type": "stream",
          "name": "stdout",
          "text": [
            "['apple', 'banana', 'cherry', 'orange']\n"
          ]
        }
      ]
    },
    {
      "cell_type": "code",
      "source": [
        "#This example returns the items from \"cherry\" to the end:\n",
        "\n",
        "\n",
        "thislist=[\"apple\", \"banana\", \"cherry\", \"orange\", \"kiwi\", \"melon\", \"mango\"]\n",
        "\n",
        "print(thislist[2:])"
      ],
      "metadata": {
        "id": "Tgwhq7kDWcS9",
        "outputId": "10de0ac1-014a-4b85-d054-655576602472",
        "colab": {
          "base_uri": "https://localhost:8080/"
        }
      },
      "execution_count": null,
      "outputs": [
        {
          "output_type": "stream",
          "name": "stdout",
          "text": [
            "['cherry', 'orange', 'kiwi', 'melon', 'mango']\n"
          ]
        }
      ]
    },
    {
      "cell_type": "code",
      "source": [
        "#Range of Negative Indexes\n",
        "\n",
        "thislist=[\"apple\", \"banana\", \"cherry\", \"orange\", \"kiwi\", \"melon\", \"mango\"]\n",
        "print(thislist[-4:-1])"
      ],
      "metadata": {
        "id": "BzMccoQqXHdo",
        "outputId": "d30e1015-cdab-4d4b-c70a-2984006cd2b2",
        "colab": {
          "base_uri": "https://localhost:8080/"
        }
      },
      "execution_count": null,
      "outputs": [
        {
          "output_type": "stream",
          "name": "stdout",
          "text": [
            "['orange', 'kiwi', 'melon']\n"
          ]
        }
      ]
    },
    {
      "cell_type": "code",
      "source": [
        "thislist=[\"apple\", \"banana\", \"cherry\", \"orange\", \"kiwi\", \"melon\", \"mango\"]\n",
        "\n",
        "print(thislist[-6:-2])"
      ],
      "metadata": {
        "id": "mXUOHpp8Xhng",
        "outputId": "9a101d3a-352c-4be5-d50e-a829aebaad61",
        "colab": {
          "base_uri": "https://localhost:8080/"
        }
      },
      "execution_count": null,
      "outputs": [
        {
          "output_type": "stream",
          "name": "stdout",
          "text": [
            "['banana', 'cherry', 'orange', 'kiwi']\n"
          ]
        }
      ]
    },
    {
      "cell_type": "code",
      "source": [
        "#Check if Item Exists\n",
        "#To determine if a specified item is present in a list use the in keyword:\n",
        "\n",
        "thislist = [\"apple\", \"banana\", \"cherry\"]\n",
        "if \"apple\" in thislist:\n",
        "  print(\"Yes, 'apple' is in the fruits list\")\n",
        "\n",
        "\n"
      ],
      "metadata": {
        "id": "2U4p6vG4X1ts",
        "outputId": "c88babef-f416-4b06-82d2-9a3956b93e9b",
        "colab": {
          "base_uri": "https://localhost:8080/"
        }
      },
      "execution_count": null,
      "outputs": [
        {
          "output_type": "stream",
          "name": "stdout",
          "text": [
            "Yes, 'apple' is in the fruits list\n"
          ]
        }
      ]
    },
    {
      "cell_type": "code",
      "source": [
        "#Change Item Value"
      ],
      "metadata": {
        "id": "L3p6JMxvYNGY"
      },
      "execution_count": null,
      "outputs": []
    },
    {
      "cell_type": "code",
      "source": [
        "list=[\"apple\", \"banana\", \"cherry\", \"orange\", \"kiwi\", \"melon\", \"mango\"]\n",
        "\n",
        "list[3]=\"grapes\"\n",
        "print(list)"
      ],
      "metadata": {
        "id": "eLHgTP4qYYUi",
        "outputId": "f41a72e2-105c-49a2-d194-f8127502c072",
        "colab": {
          "base_uri": "https://localhost:8080/"
        }
      },
      "execution_count": null,
      "outputs": [
        {
          "output_type": "stream",
          "name": "stdout",
          "text": [
            "['apple', 'banana', 'cherry', 'grapes', 'kiwi', 'melon', 'mango']\n"
          ]
        }
      ]
    },
    {
      "cell_type": "code",
      "source": [
        "#Change a Range of Item Values\n",
        "\n",
        "list=[\"apple\", \"banana\", \"cherry\", \"orange\", \"kiwi\", \"melon\", \"mango\"]\n",
        "\n",
        "list[1:3]=['pineapple','custedapple','greenapple']\n",
        "print(list)\n"
      ],
      "metadata": {
        "id": "bdI7_8HqYue_",
        "outputId": "d4c7482c-eac3-4c6c-fb02-bd3f5f81b86b",
        "colab": {
          "base_uri": "https://localhost:8080/"
        }
      },
      "execution_count": null,
      "outputs": [
        {
          "output_type": "stream",
          "name": "stdout",
          "text": [
            "['apple', 'pineapple', 'custedapple', 'greenapple', 'orange', 'kiwi', 'melon', 'mango']\n"
          ]
        }
      ]
    },
    {
      "cell_type": "code",
      "source": [
        "list=[\"apple\", \"banana\", \"cherry\", \"orange\", \"kiwi\", \"melon\", \"mango\"]\n",
        "list[1:3]=['watermelon']   #change the second and third value by replacing one value\n",
        "print(list)"
      ],
      "metadata": {
        "id": "L-r-yruiajen",
        "outputId": "abad211c-2cde-49ad-db17-5eb8c4d8f712",
        "colab": {
          "base_uri": "https://localhost:8080/"
        }
      },
      "execution_count": null,
      "outputs": [
        {
          "output_type": "stream",
          "name": "stdout",
          "text": [
            "['apple', 'watermelon', 'orange', 'kiwi', 'melon', 'mango']\n"
          ]
        }
      ]
    },
    {
      "cell_type": "code",
      "source": [
        "#Insert Items\n",
        "list=[\"apple\", \"banana\", \"cherry\", \"orange\", \"kiwi\", \"melon\", \"mango\"]\n",
        "\n",
        "list.insert(3,\"pineapple\")\n",
        "print(list)"
      ],
      "metadata": {
        "id": "qG0LOwk1a2oD",
        "outputId": "5d21e48e-62dd-43ac-a943-5d451d9d1161",
        "colab": {
          "base_uri": "https://localhost:8080/"
        }
      },
      "execution_count": null,
      "outputs": [
        {
          "output_type": "stream",
          "name": "stdout",
          "text": [
            "['apple', 'banana', 'cherry', 'pineapple', 'orange', 'kiwi', 'melon', 'mango']\n"
          ]
        }
      ]
    },
    {
      "cell_type": "code",
      "source": [
        "list=list=[\"apple\", \"banana\", \"cherry\", \"orange\", \"kiwi\", \"melon\", \"mango\"]\n",
        "\n",
        "list.insert(0,\"grapes\")\n",
        "print(list)"
      ],
      "metadata": {
        "id": "IAjrNTscbw0-",
        "outputId": "013ab98a-a5da-4102-a83b-43be4f8470a6",
        "colab": {
          "base_uri": "https://localhost:8080/"
        }
      },
      "execution_count": null,
      "outputs": [
        {
          "output_type": "stream",
          "name": "stdout",
          "text": [
            "['grapes', 'apple', 'banana', 'cherry', 'orange', 'kiwi', 'melon', 'mango']\n"
          ]
        }
      ]
    },
    {
      "cell_type": "code",
      "source": [
        "#Expand List"
      ],
      "metadata": {
        "id": "bfWZ56lXMaKA"
      },
      "execution_count": 1,
      "outputs": []
    },
    {
      "cell_type": "code",
      "source": [
        "thislist = [\"apple\", \"banana\", \"cherry\"]\n",
        "tropical = [\"mango\", \"pineapple\", \"papaya\"]\n",
        "thislist.extend(tropical)\n",
        "print(thislist)"
      ],
      "metadata": {
        "id": "XDWVXaP4Mnn4",
        "outputId": "86e9511e-38e7-4840-9b2a-a44a6957e15f",
        "colab": {
          "base_uri": "https://localhost:8080/"
        }
      },
      "execution_count": 2,
      "outputs": [
        {
          "output_type": "stream",
          "name": "stdout",
          "text": [
            "['apple', 'banana', 'cherry', 'mango', 'pineapple', 'papaya']\n"
          ]
        }
      ]
    },
    {
      "cell_type": "code",
      "source": [
        "#Add Any Iterable\n",
        "#The extend() method does not have to append lists, you can add any iterable object (tuples, sets, dictionaries etc.)."
      ],
      "metadata": {
        "id": "JGXxuzi_Mscd"
      },
      "execution_count": 3,
      "outputs": []
    },
    {
      "cell_type": "code",
      "source": [
        "thislist = [\"apple\", \"banana\", \"cherry\"]\n",
        "thistuple = (\"kiwi\", \"orange\")\n",
        "\n",
        "thislist.extend(thistuple)\n",
        "\n",
        "print(thislist)\n"
      ],
      "metadata": {
        "id": "eKGU_VdrM327",
        "outputId": "387fd017-26e9-437e-998f-6761c8f550cb",
        "colab": {
          "base_uri": "https://localhost:8080/"
        }
      },
      "execution_count": 4,
      "outputs": [
        {
          "output_type": "stream",
          "name": "stdout",
          "text": [
            "['apple', 'banana', 'cherry', 'kiwi', 'orange']\n"
          ]
        }
      ]
    },
    {
      "cell_type": "code",
      "source": [
        "#Remove Specified Item\n",
        "#The remove() method removes the specified item.\n",
        "\n"
      ],
      "metadata": {
        "id": "ED3tZuTEM7_I"
      },
      "execution_count": 5,
      "outputs": []
    },
    {
      "cell_type": "code",
      "source": [
        "thislist = [\"apple\", \"banana\", \"cherry\"]\n",
        "thislist.remove(\"banana\")\n",
        "print(thislist)"
      ],
      "metadata": {
        "id": "1Dwyok5rND0x",
        "outputId": "68b7f42d-3201-4d71-e396-ce14c3a695b7",
        "colab": {
          "base_uri": "https://localhost:8080/"
        }
      },
      "execution_count": 6,
      "outputs": [
        {
          "output_type": "stream",
          "name": "stdout",
          "text": [
            "['apple', 'cherry']\n"
          ]
        }
      ]
    },
    {
      "cell_type": "code",
      "source": [
        "#Remove Specified Index\n",
        "#The pop() method removes the specified index."
      ],
      "metadata": {
        "id": "C7YoorvXNVZG"
      },
      "execution_count": 7,
      "outputs": []
    },
    {
      "cell_type": "code",
      "source": [
        "thislist = [\"apple\", \"banana\", \"cherry\"]\n",
        "thislist.pop(2)\n",
        "print(thislist)"
      ],
      "metadata": {
        "id": "Z11v7zvrNZjm",
        "outputId": "99c95cb9-09dc-4a75-ec00-45457ebdf058",
        "colab": {
          "base_uri": "https://localhost:8080/"
        }
      },
      "execution_count": 10,
      "outputs": [
        {
          "output_type": "stream",
          "name": "stdout",
          "text": [
            "['apple', 'banana']\n"
          ]
        }
      ]
    },
    {
      "cell_type": "code",
      "source": [
        "thislist = [\"apple\", \"banana\", \"cherry\"]\n",
        "thislist.pop()\n",
        "print(thislist)\n"
      ],
      "metadata": {
        "id": "vOIfx1jsNtbk",
        "outputId": "b04b6b67-7e97-4fe7-d558-95d4bc3458a5",
        "colab": {
          "base_uri": "https://localhost:8080/"
        }
      },
      "execution_count": 11,
      "outputs": [
        {
          "output_type": "stream",
          "name": "stdout",
          "text": [
            "['apple', 'banana']\n"
          ]
        }
      ]
    },
    {
      "cell_type": "code",
      "source": [
        "thislist = [\"apple\", \"banana\", \"cherry\"]\n",
        "del thislist[0]\n",
        "print(thislist)"
      ],
      "metadata": {
        "id": "hDPyk9udNv22",
        "outputId": "1ffd0696-5fe8-4ae7-ae70-fad57864118f",
        "colab": {
          "base_uri": "https://localhost:8080/"
        }
      },
      "execution_count": 12,
      "outputs": [
        {
          "output_type": "stream",
          "name": "stdout",
          "text": [
            "['banana', 'cherry']\n"
          ]
        }
      ]
    },
    {
      "cell_type": "code",
      "source": [
        "#Clear the list\n",
        "\n",
        "list=[\"apple\",\"banana\",\"grapes\"]\n",
        "list.clear()\n",
        "print(list)\n"
      ],
      "metadata": {
        "id": "LZage42UOEo1",
        "outputId": "d9d7115d-d2e5-475b-ec82-ccebf239cc04",
        "colab": {
          "base_uri": "https://localhost:8080/"
        }
      },
      "execution_count": 13,
      "outputs": [
        {
          "output_type": "stream",
          "name": "stdout",
          "text": [
            "[]\n"
          ]
        }
      ]
    },
    {
      "cell_type": "code",
      "source": [
        "#LOOPS LIST IN PYTHON"
      ],
      "metadata": {
        "id": "5JVomEfXOVjY"
      },
      "execution_count": 14,
      "outputs": []
    },
    {
      "cell_type": "code",
      "source": [
        "list=[\"apple\",\"banana\",\"grapes\"]\n",
        "\n",
        "for x in list:\n",
        "  print(x)"
      ],
      "metadata": {
        "id": "GPGHMTJhObHG",
        "outputId": "70e58b4f-339e-49c9-bf4c-df6464afc84c",
        "colab": {
          "base_uri": "https://localhost:8080/"
        }
      },
      "execution_count": 15,
      "outputs": [
        {
          "output_type": "stream",
          "name": "stdout",
          "text": [
            "apple\n",
            "banana\n",
            "grapes\n"
          ]
        }
      ]
    },
    {
      "cell_type": "code",
      "source": [
        "#Loop Through the Index Numbers\n",
        "\n",
        "list=[\"apple\",\"banana\",\"grapes\"]\n",
        "\n",
        "for i in range(len(list)):\n",
        "  print(list[i])"
      ],
      "metadata": {
        "id": "9_hF-crnOuXg",
        "outputId": "60671567-e6f4-4d88-95ed-fc4286a6b7e0",
        "colab": {
          "base_uri": "https://localhost:8080/"
        }
      },
      "execution_count": 16,
      "outputs": [
        {
          "output_type": "stream",
          "name": "stdout",
          "text": [
            "apple\n",
            "banana\n",
            "grapes\n"
          ]
        }
      ]
    },
    {
      "cell_type": "code",
      "source": [],
      "metadata": {
        "id": "8GAONjBBPBbG"
      },
      "execution_count": null,
      "outputs": []
    }
  ]
}